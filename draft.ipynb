{
 "cells": [
  {
   "cell_type": "code",
   "execution_count": 116,
   "metadata": {
    "collapsed": true
   },
   "outputs": [],
   "source": [
    "from bs4 import BeautifulSoup\n",
    "import requests"
   ]
  },
  {
   "cell_type": "code",
   "execution_count": 140,
   "metadata": {},
   "outputs": [
    {
     "data": {
      "text/plain": [
       "<Response [200]>"
      ]
     },
     "execution_count": 140,
     "metadata": {},
     "output_type": "execute_result"
    }
   ],
   "source": [
    "r = requests.get(url)\n",
    "r"
   ]
  },
  {
   "cell_type": "code",
   "execution_count": 134,
   "metadata": {
    "collapsed": true
   },
   "outputs": [],
   "source": [
    "def go(url, deep):\n",
    "    links = []\n",
    "    r  = requests.get(url)\n",
    "\n",
    "    data = r.text\n",
    "\n",
    "    soup = BeautifulSoup(data)\n",
    "\n",
    "    for link in soup.find_all('a'):\n",
    "        a = link.get('href')\n",
    "        a = a.split(\"?\")[0]\n",
    "        if url in a:\n",
    "            links.append(a)\n",
    "            if deep < 1:\n",
    "                links2 = go(a, deep + 1)\n",
    "                links.extend(links2)\n",
    "    return links"
   ]
  },
  {
   "cell_type": "code",
   "execution_count": 135,
   "metadata": {
    "collapsed": true
   },
   "outputs": [],
   "source": [
    "url = \"https://www.lifehack.org/\"\n",
    "l = go(url, deep=0)"
   ]
  },
  {
   "cell_type": "code",
   "execution_count": 136,
   "metadata": {
    "collapsed": true
   },
   "outputs": [],
   "source": [
    "def getArticles(url):\n",
    "    try:\n",
    "        f = int(url.split('/')[3])\n",
    "    except:\n",
    "        f = 0    \n",
    "    return url if f > 0 else ''"
   ]
  },
  {
   "cell_type": "code",
   "execution_count": 137,
   "metadata": {},
   "outputs": [
    {
     "data": {
      "text/plain": [
       "array([['https://www.lifehack.org/808219/how-to-stop-racing-thoughts'],\n",
       "       ['https://www.lifehack.org/810807/prioritizing-work-and-life'],\n",
       "       ['https://www.lifehack.org/810843/how-to-start-over'],\n",
       "       ['https://www.lifehack.org/810855/how-to-get-motivated'],\n",
       "       ['https://www.lifehack.org/810873/brain-power'],\n",
       "       ['https://www.lifehack.org/810887/how-to-break-a-habit'],\n",
       "       ['https://www.lifehack.org/810901/how-to-focus-better'],\n",
       "       ['https://www.lifehack.org/810913/how-to-learn'],\n",
       "       ['https://www.lifehack.org/810923/what-is-creativity'],\n",
       "       ['https://www.lifehack.org/810935/the-careful-art-of-delegation'],\n",
       "       ['https://www.lifehack.org/812967/anxiety-coping-mechanisms'],\n",
       "       ['https://www.lifehack.org/814093/how-to-change-your-mindset'],\n",
       "       ['https://www.lifehack.org/814095/how-to-deal-with-failure'],\n",
       "       ['https://www.lifehack.org/815561/insecure-attachment'],\n",
       "       ['https://www.lifehack.org/815565/natural-sleep-remedies'],\n",
       "       ['https://www.lifehack.org/815579/dream-life'],\n",
       "       ['https://www.lifehack.org/815581/whats-the-meaning-of-life'],\n",
       "       ['https://www.lifehack.org/816187/moving-forward'],\n",
       "       ['https://www.lifehack.org/816195/types-of-love'],\n",
       "       ['https://www.lifehack.org/816215/constant-fatigue'],\n",
       "       ['https://www.lifehack.org/816343/too-lazy'],\n",
       "       [''],\n",
       "       [''],\n",
       "       [''],\n",
       "       [''],\n",
       "       [''],\n",
       "       [''],\n",
       "       [''],\n",
       "       [''],\n",
       "       [''],\n",
       "       [''],\n",
       "       [''],\n",
       "       [''],\n",
       "       [''],\n",
       "       [''],\n",
       "       [''],\n",
       "       [''],\n",
       "       [''],\n",
       "       [''],\n",
       "       [''],\n",
       "       [''],\n",
       "       [''],\n",
       "       [''],\n",
       "       [''],\n",
       "       [''],\n",
       "       [''],\n",
       "       [''],\n",
       "       [''],\n",
       "       [''],\n",
       "       [''],\n",
       "       [''],\n",
       "       [''],\n",
       "       [''],\n",
       "       [''],\n",
       "       [''],\n",
       "       [''],\n",
       "       [''],\n",
       "       [''],\n",
       "       [''],\n",
       "       ['']], dtype=object)"
      ]
     },
     "execution_count": 137,
     "metadata": {},
     "output_type": "execute_result"
    }
   ],
   "source": [
    "sites = pd.DataFrame(pd.DataFrame(l).groupby([0]).size().index)\n",
    "sites[0] = sites[0].apply( getArticles )\n",
    "sites = sites.values\n",
    "sites"
   ]
  },
  {
   "cell_type": "code",
   "execution_count": 121,
   "metadata": {},
   "outputs": [
    {
     "ename": "Forbidden",
     "evalue": "403 POST https://translation.googleapis.com/language/translate/v2: User Rate Limit Exceeded",
     "output_type": "error",
     "traceback": [
      "\u001b[0;31m---------------------------------------------------------------------------\u001b[0m",
      "\u001b[0;31mForbidden\u001b[0m                                 Traceback (most recent call last)",
      "\u001b[0;32m<ipython-input-121-563e806800c2>\u001b[0m in \u001b[0;36m<module>\u001b[0;34m()\u001b[0m\n\u001b[1;32m     13\u001b[0m         \u001b[0mheading_translated\u001b[0m \u001b[0;34m=\u001b[0m \u001b[0mt\u001b[0m\u001b[0;34m(\u001b[0m\u001b[0mdiv\u001b[0m\u001b[0;34m.\u001b[0m\u001b[0mtext\u001b[0m\u001b[0;34m)\u001b[0m\u001b[0;34m\u001b[0m\u001b[0m\n\u001b[1;32m     14\u001b[0m     \u001b[0;32mfor\u001b[0m \u001b[0mdiv\u001b[0m \u001b[0;32min\u001b[0m \u001b[0msoup\u001b[0m\u001b[0;34m.\u001b[0m\u001b[0mfind_all\u001b[0m\u001b[0;34m(\u001b[0m\u001b[0;34m'div'\u001b[0m\u001b[0;34m,\u001b[0m \u001b[0mattrs\u001b[0m\u001b[0;34m=\u001b[0m\u001b[0;34m{\u001b[0m\u001b[0;34m'class'\u001b[0m\u001b[0;34m:\u001b[0m \u001b[0;34m'article-content'\u001b[0m\u001b[0;34m}\u001b[0m\u001b[0;34m)\u001b[0m\u001b[0;34m:\u001b[0m\u001b[0;34m\u001b[0m\u001b[0m\n\u001b[0;32m---> 15\u001b[0;31m         \u001b[0mcontent_translated\u001b[0m \u001b[0;34m=\u001b[0m \u001b[0mt\u001b[0m\u001b[0;34m(\u001b[0m\u001b[0mdiv\u001b[0m\u001b[0;34m.\u001b[0m\u001b[0mtext\u001b[0m\u001b[0;34m)\u001b[0m\u001b[0;34m\u001b[0m\u001b[0m\n\u001b[0m\u001b[1;32m     16\u001b[0m         \u001b[0;32mbreak\u001b[0m\u001b[0;34m\u001b[0m\u001b[0m\n\u001b[1;32m     17\u001b[0m     \u001b[0mdata\u001b[0m \u001b[0;34m=\u001b[0m \u001b[0mdata\u001b[0m\u001b[0;34m.\u001b[0m\u001b[0mappend\u001b[0m\u001b[0;34m(\u001b[0m\u001b[0;34m{\u001b[0m\u001b[0;34m'url'\u001b[0m\u001b[0;34m:\u001b[0m \u001b[0murl\u001b[0m\u001b[0;34m,\u001b[0m \u001b[0;34m'heading'\u001b[0m\u001b[0;34m:\u001b[0m \u001b[0mheading_translated\u001b[0m\u001b[0;34m,\u001b[0m \u001b[0;34m'content'\u001b[0m\u001b[0;34m:\u001b[0m \u001b[0mcontent_translated\u001b[0m\u001b[0;34m}\u001b[0m\u001b[0;34m,\u001b[0m \u001b[0mignore_index\u001b[0m\u001b[0;34m=\u001b[0m\u001b[0;32mTrue\u001b[0m\u001b[0;34m)\u001b[0m\u001b[0;34m\u001b[0m\u001b[0m\n",
      "\u001b[0;32m<ipython-input-15-2e36d522f658>\u001b[0m in \u001b[0;36mt\u001b[0;34m(text)\u001b[0m\n\u001b[1;32m      1\u001b[0m \u001b[0;32mdef\u001b[0m \u001b[0mt\u001b[0m\u001b[0;34m(\u001b[0m\u001b[0mtext\u001b[0m\u001b[0;34m)\u001b[0m\u001b[0;34m:\u001b[0m\u001b[0;34m\u001b[0m\u001b[0m\n\u001b[0;32m----> 2\u001b[0;31m     \u001b[0mr\u001b[0m \u001b[0;34m=\u001b[0m \u001b[0mclient\u001b[0m\u001b[0;34m.\u001b[0m\u001b[0mtranslate\u001b[0m\u001b[0;34m(\u001b[0m\u001b[0mtext\u001b[0m\u001b[0;34m,\u001b[0m \u001b[0mtarget_language\u001b[0m\u001b[0;34m=\u001b[0m\u001b[0;34m'PT-BR'\u001b[0m\u001b[0;34m)\u001b[0m\u001b[0;34m\u001b[0m\u001b[0m\n\u001b[0m\u001b[1;32m      3\u001b[0m     \u001b[0;32mreturn\u001b[0m \u001b[0mr\u001b[0m\u001b[0;34m[\u001b[0m\u001b[0;34m'translatedText'\u001b[0m\u001b[0;34m]\u001b[0m\u001b[0;34m\u001b[0m\u001b[0m\n",
      "\u001b[0;32m~/anaconda3/lib/python3.6/site-packages/google/cloud/translate_v2/client.py\u001b[0m in \u001b[0;36mtranslate\u001b[0;34m(self, values, target_language, format_, source_language, customization_ids, model)\u001b[0m\n\u001b[1;32m    231\u001b[0m \u001b[0;34m\u001b[0m\u001b[0m\n\u001b[1;32m    232\u001b[0m         response = self._connection.api_request(\n\u001b[0;32m--> 233\u001b[0;31m             method='POST', path='', data=data)\n\u001b[0m\u001b[1;32m    234\u001b[0m \u001b[0;34m\u001b[0m\u001b[0m\n\u001b[1;32m    235\u001b[0m         \u001b[0mtranslations\u001b[0m \u001b[0;34m=\u001b[0m \u001b[0mresponse\u001b[0m\u001b[0;34m.\u001b[0m\u001b[0mget\u001b[0m\u001b[0;34m(\u001b[0m\u001b[0;34m'data'\u001b[0m\u001b[0;34m,\u001b[0m \u001b[0;34m{\u001b[0m\u001b[0;34m}\u001b[0m\u001b[0;34m)\u001b[0m\u001b[0;34m.\u001b[0m\u001b[0mget\u001b[0m\u001b[0;34m(\u001b[0m\u001b[0;34m'translations'\u001b[0m\u001b[0;34m,\u001b[0m \u001b[0;34m(\u001b[0m\u001b[0;34m)\u001b[0m\u001b[0;34m)\u001b[0m\u001b[0;34m\u001b[0m\u001b[0m\n",
      "\u001b[0;32m~/anaconda3/lib/python3.6/site-packages/google/cloud/_http.py\u001b[0m in \u001b[0;36mapi_request\u001b[0;34m(self, method, path, query_params, data, content_type, headers, api_base_url, api_version, expect_json, _target_object)\u001b[0m\n\u001b[1;32m    291\u001b[0m \u001b[0;34m\u001b[0m\u001b[0m\n\u001b[1;32m    292\u001b[0m         \u001b[0;32mif\u001b[0m \u001b[0;32mnot\u001b[0m \u001b[0;36m200\u001b[0m \u001b[0;34m<=\u001b[0m \u001b[0mresponse\u001b[0m\u001b[0;34m.\u001b[0m\u001b[0mstatus_code\u001b[0m \u001b[0;34m<\u001b[0m \u001b[0;36m300\u001b[0m\u001b[0;34m:\u001b[0m\u001b[0;34m\u001b[0m\u001b[0m\n\u001b[0;32m--> 293\u001b[0;31m             \u001b[0;32mraise\u001b[0m \u001b[0mexceptions\u001b[0m\u001b[0;34m.\u001b[0m\u001b[0mfrom_http_response\u001b[0m\u001b[0;34m(\u001b[0m\u001b[0mresponse\u001b[0m\u001b[0;34m)\u001b[0m\u001b[0;34m\u001b[0m\u001b[0m\n\u001b[0m\u001b[1;32m    294\u001b[0m \u001b[0;34m\u001b[0m\u001b[0m\n\u001b[1;32m    295\u001b[0m         \u001b[0;32mif\u001b[0m \u001b[0mexpect_json\u001b[0m \u001b[0;32mand\u001b[0m \u001b[0mresponse\u001b[0m\u001b[0;34m.\u001b[0m\u001b[0mcontent\u001b[0m\u001b[0;34m:\u001b[0m\u001b[0;34m\u001b[0m\u001b[0m\n",
      "\u001b[0;31mForbidden\u001b[0m: 403 POST https://translation.googleapis.com/language/translate/v2: User Rate Limit Exceeded"
     ]
    }
   ],
   "source": [
    "import pandas as pd\n",
    "data = pd.DataFrame({'url': [], 'heading': [], 'content': []})\n",
    "\n",
    "for url in sites:\n",
    "    url = url[0]\n",
    "    if len(url) <= 0:\n",
    "        continue\n",
    "        \n",
    "    r = requests.get(url)\n",
    "    soup = BeautifulSoup(r.content)\n",
    "\n",
    "    for div in soup.find_all('h1', attrs={'class': 'article-heading'}):    \n",
    "        heading_translated = t(div.text)\n",
    "    for div in soup.find_all('div', attrs={'class': 'article-content'}):    \n",
    "        content_translated = t(div.text)\n",
    "        break\n",
    "    data = data.append({'url': url, 'heading': heading_translated, 'content': content_translated}, ignore_index=True)"
   ]
  },
  {
   "cell_type": "code",
   "execution_count": 122,
   "metadata": {},
   "outputs": [
    {
     "data": {
      "text/html": [
       "<div>\n",
       "<style scoped>\n",
       "    .dataframe tbody tr th:only-of-type {\n",
       "        vertical-align: middle;\n",
       "    }\n",
       "\n",
       "    .dataframe tbody tr th {\n",
       "        vertical-align: top;\n",
       "    }\n",
       "\n",
       "    .dataframe thead th {\n",
       "        text-align: right;\n",
       "    }\n",
       "</style>\n",
       "<table border=\"1\" class=\"dataframe\">\n",
       "  <thead>\n",
       "    <tr style=\"text-align: right;\">\n",
       "      <th></th>\n",
       "      <th>url</th>\n",
       "      <th>heading</th>\n",
       "      <th>content</th>\n",
       "    </tr>\n",
       "  </thead>\n",
       "  <tbody>\n",
       "    <tr>\n",
       "      <th>0</th>\n",
       "      <td>https://www.lifehack.org/808219/how-to-stop-ra...</td>\n",
       "      <td>Sucesso em alcançar metas é determinado pela m...</td>\n",
       "      <td>Se você pudesse ver um diagrama do meu cérebro...</td>\n",
       "    </tr>\n",
       "    <tr>\n",
       "      <th>1</th>\n",
       "      <td>https://www.lifehack.org/810807/prioritizing-w...</td>\n",
       "      <td>Sucesso em alcançar metas é determinado pela m...</td>\n",
       "      <td>Você já se viu dizendo a um amigo ou colega qu...</td>\n",
       "    </tr>\n",
       "    <tr>\n",
       "      <th>2</th>\n",
       "      <td>https://www.lifehack.org/810843/how-to-start-over</td>\n",
       "      <td>Sucesso em alcançar metas é determinado pela m...</td>\n",
       "      <td>Já ouviu o ditado &amp;quot;A mudança é a única co...</td>\n",
       "    </tr>\n",
       "    <tr>\n",
       "      <th>3</th>\n",
       "      <td>https://www.lifehack.org/810855/how-to-get-mot...</td>\n",
       "      <td>10 estratégias para seguir em frente quando vo...</td>\n",
       "      <td>É segunda de manhã. O alarme toca. Qual é o pr...</td>\n",
       "    </tr>\n",
       "    <tr>\n",
       "      <th>4</th>\n",
       "      <td>https://www.lifehack.org/810873/brain-power</td>\n",
       "      <td>Sucesso em alcançar metas é determinado pela m...</td>\n",
       "      <td>Você já confiou em uma lista de compras mental...</td>\n",
       "    </tr>\n",
       "    <tr>\n",
       "      <th>5</th>\n",
       "      <td>https://www.lifehack.org/810887/how-to-break-a...</td>\n",
       "      <td>Sucesso em alcançar metas é determinado pela m...</td>\n",
       "      <td>Existe algo que você simplesmente ama ou não p...</td>\n",
       "    </tr>\n",
       "    <tr>\n",
       "      <th>6</th>\n",
       "      <td>https://www.lifehack.org/810901/how-to-focus-b...</td>\n",
       "      <td>Sucesso em alcançar metas é determinado pela m...</td>\n",
       "      <td>O que vem à mente quando você pensa no foco da...</td>\n",
       "    </tr>\n",
       "    <tr>\n",
       "      <th>7</th>\n",
       "      <td>https://www.lifehack.org/810913/how-to-learn</td>\n",
       "      <td>Sucesso em alcançar metas é determinado pela m...</td>\n",
       "      <td>Você já ouviu falar da expressão idiomática &amp;#...</td>\n",
       "    </tr>\n",
       "    <tr>\n",
       "      <th>8</th>\n",
       "      <td>https://www.lifehack.org/810923/what-is-creati...</td>\n",
       "      <td>Sucesso em alcançar metas é determinado pela m...</td>\n",
       "      <td>Você se considera uma pessoa criativa? Você to...</td>\n",
       "    </tr>\n",
       "    <tr>\n",
       "      <th>9</th>\n",
       "      <td>https://www.lifehack.org/810935/the-careful-ar...</td>\n",
       "      <td>Sucesso em alcançar metas é determinado pela m...</td>\n",
       "      <td>Você se acha constantemente ocupado? Ou talvez...</td>\n",
       "    </tr>\n",
       "    <tr>\n",
       "      <th>10</th>\n",
       "      <td>https://www.lifehack.org/811331/leg-stretches</td>\n",
       "      <td>Por que você sofre de fadiga constante e como ...</td>\n",
       "      <td>Alongamentos de pernas podem realmente fazer a...</td>\n",
       "    </tr>\n",
       "  </tbody>\n",
       "</table>\n",
       "</div>"
      ],
      "text/plain": [
       "                                                  url  \\\n",
       "0   https://www.lifehack.org/808219/how-to-stop-ra...   \n",
       "1   https://www.lifehack.org/810807/prioritizing-w...   \n",
       "2   https://www.lifehack.org/810843/how-to-start-over   \n",
       "3   https://www.lifehack.org/810855/how-to-get-mot...   \n",
       "4         https://www.lifehack.org/810873/brain-power   \n",
       "5   https://www.lifehack.org/810887/how-to-break-a...   \n",
       "6   https://www.lifehack.org/810901/how-to-focus-b...   \n",
       "7        https://www.lifehack.org/810913/how-to-learn   \n",
       "8   https://www.lifehack.org/810923/what-is-creati...   \n",
       "9   https://www.lifehack.org/810935/the-careful-ar...   \n",
       "10      https://www.lifehack.org/811331/leg-stretches   \n",
       "\n",
       "                                              heading  \\\n",
       "0   Sucesso em alcançar metas é determinado pela m...   \n",
       "1   Sucesso em alcançar metas é determinado pela m...   \n",
       "2   Sucesso em alcançar metas é determinado pela m...   \n",
       "3   10 estratégias para seguir em frente quando vo...   \n",
       "4   Sucesso em alcançar metas é determinado pela m...   \n",
       "5   Sucesso em alcançar metas é determinado pela m...   \n",
       "6   Sucesso em alcançar metas é determinado pela m...   \n",
       "7   Sucesso em alcançar metas é determinado pela m...   \n",
       "8   Sucesso em alcançar metas é determinado pela m...   \n",
       "9   Sucesso em alcançar metas é determinado pela m...   \n",
       "10  Por que você sofre de fadiga constante e como ...   \n",
       "\n",
       "                                              content  \n",
       "0   Se você pudesse ver um diagrama do meu cérebro...  \n",
       "1   Você já se viu dizendo a um amigo ou colega qu...  \n",
       "2   Já ouviu o ditado &quot;A mudança é a única co...  \n",
       "3   É segunda de manhã. O alarme toca. Qual é o pr...  \n",
       "4   Você já confiou em uma lista de compras mental...  \n",
       "5   Existe algo que você simplesmente ama ou não p...  \n",
       "6   O que vem à mente quando você pensa no foco da...  \n",
       "7   Você já ouviu falar da expressão idiomática &#...  \n",
       "8   Você se considera uma pessoa criativa? Você to...  \n",
       "9   Você se acha constantemente ocupado? Ou talvez...  \n",
       "10  Alongamentos de pernas podem realmente fazer a...  "
      ]
     },
     "execution_count": 122,
     "metadata": {},
     "output_type": "execute_result"
    }
   ],
   "source": [
    "data"
   ]
  },
  {
   "cell_type": "code",
   "execution_count": 123,
   "metadata": {
    "collapsed": true
   },
   "outputs": [],
   "source": [
    "data.to_csv(\"likehack_content.csv\")"
   ]
  },
  {
   "cell_type": "code",
   "execution_count": 1,
   "metadata": {
    "collapsed": true
   },
   "outputs": [],
   "source": [
    "import pandas as pd"
   ]
  },
  {
   "cell_type": "code",
   "execution_count": 2,
   "metadata": {
    "collapsed": true
   },
   "outputs": [],
   "source": [
    "df = pd.read_csv(\"likehack_content.csv\")"
   ]
  },
  {
   "cell_type": "code",
   "execution_count": 7,
   "metadata": {},
   "outputs": [
    {
     "data": {
      "text/plain": [
       "('https://www.lifehack.org/808219/how-to-stop-racing-thoughts',\n",
       " 'Se você pudesse ver um diagrama do meu cérebro e você pudesse imaginar que cada linha era um pensamento, pareceria que você tinha dado uma sala cheia de lápis de cera de 4 anos e disse-lhes para desenhar no chão de uma sala enorme. Eu não acho uma coisa de cada vez. Como minha família diz &quot;Eu acho que a tia Winn&quot;. Minha tia Winn poderia pensar em 30 conversas ao mesmo tempo e esperar que você pular de discutir política mundial para as qualidades de um bom bolo de rock em menos tempo do que levou para ferver o chaleira. Aparentemente, eu faço isso com meu marido também, muitas vezes eu posso ouvi-lo dizendo: &quot;Eu sei que você acha que tivemos essa conversa hoje, no entanto tenho a sensação de que você está me dando uma resposta para uma conversa que tivemos na quinta-feira passada. a banheira de água quente! ”Então, os pensamentos de corrida e eu somos melhores amigos, ou somos? Percebi que enquanto posso estar pensando em mil pensamentos de uma só vez, não sofro de opressão, como é isso? Como parar de pensar sobre corridas? Neste artigo, quero compartilhar como silencio minha mente, criar algum espaço e por que é tão bom fazer isso pessoal e profissionalmente.Quando Todo Mundo Tem Pensamentos de Corrida? Como Parar de Correr Pensamentos em Sua MenteFinal Pensamentos Todos têm pensamentos de corrida? Antes de compartilhar essas ideias, quero compartilhar algo que realmente me chocou. Eu decidi perguntar aos meus amigos de mídias sociais se eles “sofriam” de uma mente de corrida como muitos dos meus clientes fazem. A resposta foi um pouco alarmante: 100% dos entrevistados disseram que se sentiram sobrecarregados com muitos dizendo que sentiam que sua mente estava louca e “Desligando? O que é isso! ”Da mente de meus amigos mais ocupados, parece que isso não apenas impacta em sua mente, mas também afeta suas ações, o que você faz em um dia e até mesmo sua capacidade de ter uma noite de sono decente! É realmente hora de ter essa mente para desistir e dar-lhe algum tempo, não é! PropagandaAssim como podemos consertar isso? Aqui vou compartilhar algumas ferramentas para ajudá-lo a acionar os freios, acalmar sua mente e conseguir mais sem deixar passar nenhum pensamento importante na sua cabeça. Mind1. Ouça sua mente - Pense como um profissional Percebi que uma das habilidades que aprendi desde que fiquei doente com o Lupus é que aprendi a pensar da maneira mais poderosa possível. Cada pensamento é processado. Eu tenho usado esta prática por muitos anos e eu aprecio que eu não faço mais isso conscientemente. No entanto, no início, você terá que estruturar seu pensamento. Quando digo processado, quero dizer que estou ciente da natureza dos meus pensamentos. Por exemplo: eu poderia continuar, mas você entende a idéia? Ouça o que sua cabeça tem a dizer e depois processe-a. Se você não dedicar tempo para aprender a fazer isso, pergunte a si mesmo que impacto isso pode ter no espaço, nas ações e nos resultados do seu cérebro? Acalme a mente Quando você aprendeu a realmente ouvir toda aquela conversa em sua mente, é hora de acalmar a mente. Ouvir não significa automaticamente que tudo desaparece magicamente. E acalmar a mente não requer um paraíso tropical, uma massagem e os sons da natureza para conseguir um pouco de espaço cerebral. Para alguns clientes, eles descobriram que a maneira mais rápida de fechar o cérebro é aumentar a música, então eles literalmente não conseguem ouvir nada, exceto sua música favorita. PublicidadePróximo sucesso na consecução de metas é determinado pela mentalidade Você já caiu na armadilha &#39;Ocupado&#39;? Aqui está sua saída Como aumentar o poder do cérebro, aumentar a memória e tornar-se 10x mais inteligente Role para baixo para continuar lendo artigo Para os outros, 5 minutos no jardim é o suficiente para fazê-los repensar. Eu não diria que há apenas uma coisa que te leva a um lugar calmo, eu teria pelo menos 12 coisas físicas que você pode fazer para acalmar sua mente. Dessa forma, se você tem uma hiperatividade com entusiasmo, raiva também muito acontecendo ou sentindo-se completamente sobrecarregado pela vida, você tem idéias diferentes para o trabalho. Oi, Boas Vindas, Bom dia Jogo Para mim, às vezes um passeio sob os grandes carvalhos é suficiente; outras vezes, eu me vejo ficando ainda mais confusa quando os pensamentos lutam pela minha atenção. Nessas ocasiões, descobri que esse exercício realmente simples acalma minha mente e me faz sorrir: é tão simples e funciona todas as vezes para mim. Tudo que faço é visualizar 10 pessoas que conheci naquela semana e visualizar a primeira palavra que eu disse a elas. Eu costumo dizer algo como &quot;Ótimo para ver você&quot; ou &quot;Olá&quot; ou &quot;Bem-vindo ao meu evento!&quot; Eu adoro conhecer pessoas e eu hospedo muitos tipos diferentes de eventos, então as pessoas têm o prazer de me ver e estamos ansiosos para o nosso tempo juntos. Que grande conjunto de emoções e sentimentos para recriar na minha cabeça. Como você pode usar o meu exercício de boas vindas para lembrá-lo de algo em sua semana que faz você se sentir bem? (Isso também funciona em worms de ouvido também!) 4. Concentre a mente Quando um cliente de coaching chega, eles tendem a iniciar nossa sessão falando tão rápido que não tenho certeza se conseguem ouvir metade do que estão dizendo! Após cerca de 20 minutos, eles estão sem fôlego como se estivessem correndo, e seus ombros parecem um pouco mais leves, já que eles despejaram o conteúdo de sua cabeça em mim. O que está acontecendo quando um cliente faz isso é que eles estão: Tornando-se mais conscientes do que está acontecendo em sua cabeça. Às vezes, realmente ouvir a verdade pela primeira vez, colocando tudo na frente deles metaforicamente para que eles possam descobrir o que trabalhar e o que despejar. Eu chamo de vala ou lida com isso. E também faz maravilhas nas listas de &quot;fazer&quot;! Percebendo como tudo na sua cabeça impacta nelas - fisicamente e emocionalmente. Desafiando as crenças que elas mantêm em torno de sua percepção da realidade. E isso é só para começar! Leia sobre o próximo passo. Crie um plano de ação Uma vez que você possa ver o que está acontecendo, você pode criar um plano de ação que o leve adiante. Foco significa “o ponto principal ou central de algo, especialmente de atenção ou interesse” e é isso que você precisa Acalme-se uma cabeça esmagada de pensamentos de corrida. PublicidadeEnquanto você não tem um coach para trabalhar, crie algumas maneiras de esvaziar tudo e concentrar-se naquilo que precisa / deseja fazer. Estes podem incluir: Organize-se para encontrar-se com um amigo ou colega e concorde que “sem julgamento” eles ouvirão e não interromperão. Concordem que você doará uma hora para que eles façam o mesmo. Um amigo do Facebook me disse que sua “cura para uma mente corrida” era “desaparecer da cama com uma caneta e caderno para escrever tudo”. essa é uma boa ideia, perguntei-lhes se isso funcionava para eles e eles disseram algumas vezes. Isso poderia ser porque eles esperaram até a hora de dormir para processar tudo e tirá-lo, em vez de lidar com isso quando era realmente um problema? O registro no diário pode armazenar muita emoção negativa, se continuarmos lendo, então preste atenção em como suas anotações fazem você se sentir. É realmente benéfico para você ou você precisa mudar a maneira como você escreve? Faça o tempo para se concentrar. Você precisa colocá-lo no diário ou você será natural fazer o tempo para fazer isso? Criar uma lista de todas as coisas que você poderia fazer para todas as coisas que você tem girando em sua cabeça. Faça uma longa lista. Dispensar nada.Jogue a vala ou lide com o jogo. Muitas vezes, o que achamos que devemos enfatizar é, na verdade, a definição de alguém importante, portanto, pergunte a si mesmo “isso realmente importa para mim? Menos na sua lista de tarefas Anos atrás, as pessoas respondiam “Como você está?” Com “Estou bem, obrigada” ou “Estou com um resfriado, mas estou melhorando agora, obrigado!” No entanto, a resposta de hoje é muito mais provável que seja &quot;Ocupado, como você está?&quot; Ocupado não é uma emoção ou sentimento Muitos de nós temos uma mente ocupada porque estamos tão ocupados. Mais e mais estou sendo convidado a ajudar os profissionais e a organização a criar estratégias de coaching para gerenciar seu tempo. Aqui estão algumas dessas idéias para ajudá-lo com sua mente de corrida: pare de pensar coisas. Muitas vezes pensamos em quanto tempo uma tarefa que odiamos vai demorar e, portanto, adiar e, assim, ela fica na sua cabeça! Defina um temporizador e saiba quanto tempo uma tarefa leva. Muitos clientes conseguiram eliminar toda a tarefa de sua cabeça, porque sua percepção do impacto sobre o dia e a produtividade foi alterada. Mais tempo. Ao contrário da primeira dica, também subestimamos o tempo que outras coisas demoram a fazer. Se você sabe que um trabalho levará uma hora, reserve 1,5 horas. Isto significa que se não demorar tanto tempo, você acabou de fazer algum espaço de cérebro para si mesmo, por isso é uma situação vantajosa. Escolha suas palavras com sabedoria. Você já reparou quantos ditos que temos em torno de palavras relacionadas ao tempo? Eu realmente quero um pouco do meu tempo. Eu nunca tenho tempo. Eu sei que você tem muito, mas faça o tempo. Eu não quero gastar meu tempo dizendo a você o que fazer, etc, etc. Pergunte a si mesmo se a sua escolha de palavras liberar sua mente ou torná-lo ainda mais ocupado? PublicidadeNão se desloque lateralmente. Todos nós temos alarmes e lembretes que aparecem em nós. Até o nosso eletrodoméstico agora fala para nós dizendo “Ei, eu estou pronto, me dê sua atenção!” Desligue-os. Se você sabe que tem muita coisa, escolha o que pode ouvir com atenção. Assim como a pessoa que gira a música para que eles não possam ouvir seus próprios pensamentos. Nossa capacidade de processar o que está acontecendo em nossas cabeças pode ser afetada pelo ping do e-mail ou pelos sons de notificação. Vi apresentações em que nos disseram que o melhor curso de ação é a matriz de gerenciamento de tempo de Eisenhower, que pede a você Coloque cada tarefa (ou pensamento) em uma grade. Os blocos são rotulados: Urgente, menos urgente, importante e menos importante. Embora eu tenha visto clientes criarem sua própria versão para um grande sucesso. Eu também vi novos clientes que me disseram que eles demoram horas para completar a grade e assim eles não fazem nenhum trabalho e acabam com ainda mais voando dentro de suas cabeças! Isso é o suficiente para deixar qualquer um insano! O que funciona para uma pessoa não significa que funcionará para você. Você poderia tentar relabelecer matriz Eisenhower como meus clientes para torná-lo pessoal para você, para encorajá-lo a usá-lo. Em alternativa, há um aplicativo para tudo. Que tal encontrar um aplicativo que permite esvaziar sua cabeça? Eu amo o Wunderlist por me permitir criar algum espaço na minha cabeça. Desta forma, você pode colocar de lado pensamentos enquanto se concentra no que é importante agora. Livre-se dessa culpa E por fim, se você tem um cérebro que está fugindo com você, abandone a culpa porque eu não me importaria de apostar que você liberaria muito espaço com essa ação! A culpa é uma daquelas emoções que causam nós para processar as coisas de novo e de novo e de novo. Procure a culpa em seus pensamentos, analise por que ela existe e livre-se dela.Pensamentos Finais É totalmente normal se você encontrar seus pensamentos correndo em sua mente o tempo todo. O que você precisa fazer é realmente ouvir seus pensamentos e tomar algumas ações concretas sobre esses pensamentos. Forçar-se a silenciar esses pensamentos não é a maneira mais eficiente a longo prazo. Hora de enfrentar esses pensamentos e encontrar o que funciona melhor para você lidar com esses pensamentos de corrida. Crédito da foto: Priscilla Du Preez via unsplash.com')"
      ]
     },
     "execution_count": 7,
     "metadata": {},
     "output_type": "execute_result"
    }
   ],
   "source": [
    "df.url[0], df.content[0]"
   ]
  },
  {
   "cell_type": "code",
   "execution_count": 24,
   "metadata": {
    "collapsed": true
   },
   "outputs": [],
   "source": [
    "#!pip install --upgrade google-api-python-client\n",
    "#!pip install --upgrade google-cloud-translate"
   ]
  },
  {
   "cell_type": "code",
   "execution_count": 9,
   "metadata": {
    "collapsed": true
   },
   "outputs": [],
   "source": [
    "from google.cloud import translate"
   ]
  },
  {
   "cell_type": "code",
   "execution_count": 10,
   "metadata": {
    "collapsed": true
   },
   "outputs": [],
   "source": [
    "client = translate.Client.from_service_account_json(\"/home/rafael/Downloads/MyProject79823-dcd0aa347bc0.json\")"
   ]
  },
  {
   "cell_type": "code",
   "execution_count": 15,
   "metadata": {
    "collapsed": true
   },
   "outputs": [],
   "source": [
    "def t(text):\n",
    "    r = client.translate(text, target_language='PT-BR')    \n",
    "    return r['translatedText']"
   ]
  },
  {
   "cell_type": "code",
   "execution_count": null,
   "metadata": {
    "collapsed": true
   },
   "outputs": [],
   "source": []
  }
 ],
 "metadata": {
  "kernelspec": {
   "display_name": "Python 3",
   "language": "python",
   "name": "python3"
  },
  "language_info": {
   "codemirror_mode": {
    "name": "ipython",
    "version": 3
   },
   "file_extension": ".py",
   "mimetype": "text/x-python",
   "name": "python",
   "nbconvert_exporter": "python",
   "pygments_lexer": "ipython3",
   "version": "3.6.3"
  }
 },
 "nbformat": 4,
 "nbformat_minor": 2
}
